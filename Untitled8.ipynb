{
 "cells": [
  {
   "cell_type": "code",
   "execution_count": 1,
   "id": "7dc17a9f-36a5-4d5f-b985-a962f5e8118c",
   "metadata": {},
   "outputs": [],
   "source": [
    "fruits = [\"apple\", \"banana\", \"cherry\", \"orange\", \"mango\", \"kiwi\"]\n"
   ]
  },
  {
   "cell_type": "code",
   "execution_count": 3,
   "id": "99d095f3-f470-48dd-bd0c-88695de7a6ae",
   "metadata": {},
   "outputs": [
    {
     "name": "stdout",
     "output_type": "stream",
     "text": [
      "apple\n"
     ]
    }
   ],
   "source": [
    "print (fruits[0])"
   ]
  },
  {
   "cell_type": "code",
   "execution_count": 4,
   "id": "cf8e08c9-61cc-4aa2-9a58-c6faae051e5a",
   "metadata": {},
   "outputs": [
    {
     "name": "stdout",
     "output_type": "stream",
     "text": [
      "kiwi\n"
     ]
    }
   ],
   "source": [
    "print (fruits[-1])"
   ]
  },
  {
   "cell_type": "code",
   "execution_count": 9,
   "id": "44206a7d-c5bd-4a0d-af4d-582fb151ad45",
   "metadata": {},
   "outputs": [
    {
     "name": "stdout",
     "output_type": "stream",
     "text": [
      "['banana', 'cherry', 'orange']\n"
     ]
    }
   ],
   "source": [
    "print (fruits[1:-2])"
   ]
  },
  {
   "cell_type": "code",
   "execution_count": 14,
   "id": "729d8457-b5ee-4d91-831e-a04ddb361023",
   "metadata": {},
   "outputs": [
    {
     "name": "stdout",
     "output_type": "stream",
     "text": [
      "mango\n"
     ]
    }
   ],
   "source": [
    "print (fruits[4])"
   ]
  },
  {
   "cell_type": "code",
   "execution_count": 15,
   "id": "bfcf0427-8c50-4eea-88fc-0377340cefd2",
   "metadata": {},
   "outputs": [],
   "source": [
    "numbers = [4, 2, 9, 1, 7]"
   ]
  },
  {
   "cell_type": "code",
   "execution_count": 16,
   "id": "572e4f82-7dce-4f69-a44f-8a6ddb453176",
   "metadata": {},
   "outputs": [
    {
     "name": "stdout",
     "output_type": "stream",
     "text": [
      "[4, 2, 9, 1, 7, 5]\n"
     ]
    }
   ],
   "source": [
    "numbers.append(5)\n",
    "print(numbers)\n"
   ]
  },
  {
   "cell_type": "code",
   "execution_count": 17,
   "id": "0e92d8f7-017d-4ce9-a105-4684fd167877",
   "metadata": {},
   "outputs": [
    {
     "name": "stdout",
     "output_type": "stream",
     "text": [
      "[4, 9, 1, 7, 5]\n"
     ]
    }
   ],
   "source": [
    "numbers.remove(2)\n",
    "print(numbers)\n"
   ]
  },
  {
   "cell_type": "code",
   "execution_count": 18,
   "id": "dcc3c45d-093e-4f58-a660-a4835cbc6fb8",
   "metadata": {},
   "outputs": [
    {
     "name": "stdout",
     "output_type": "stream",
     "text": [
      "[1, 4, 5, 7, 9]\n"
     ]
    }
   ],
   "source": [
    "numbers.sort()\n",
    "print(numbers)\n"
   ]
  },
  {
   "cell_type": "code",
   "execution_count": 19,
   "id": "f82cfc30-e9cf-4e55-8ede-c19a3681a4ae",
   "metadata": {},
   "outputs": [
    {
     "name": "stdout",
     "output_type": "stream",
     "text": [
      "9\n"
     ]
    }
   ],
   "source": [
    "print(max(numbers))\n"
   ]
  },
  {
   "cell_type": "code",
   "execution_count": 20,
   "id": "6b24686a-37a9-47bd-9961-6c2ddc4b4635",
   "metadata": {},
   "outputs": [
    {
     "name": "stdout",
     "output_type": "stream",
     "text": [
      "[9, 7, 5, 4, 1]\n"
     ]
    }
   ],
   "source": [
    "numbers.reverse()\n",
    "print(numbers)\n"
   ]
  },
  {
   "cell_type": "code",
   "execution_count": 21,
   "id": "76c2c7e3-a890-4644-8409-7801d465a386",
   "metadata": {},
   "outputs": [],
   "source": [
    "colors = (\"red\", \"green\", \"blue\", \"yellow\", \"black\")\n"
   ]
  },
  {
   "cell_type": "code",
   "execution_count": 22,
   "id": "ff9afdf6-4275-47e0-9347-fc20fb3c48ba",
   "metadata": {},
   "outputs": [
    {
     "name": "stdout",
     "output_type": "stream",
     "text": [
      "blue\n"
     ]
    }
   ],
   "source": [
    "print(colors[2])"
   ]
  },
  {
   "cell_type": "code",
   "execution_count": 26,
   "id": "90294fff-c58b-441b-b676-396f19e5fb61",
   "metadata": {},
   "outputs": [
    {
     "name": "stdout",
     "output_type": "stream",
     "text": [
      "('green', 'blue')\n"
     ]
    }
   ],
   "source": [
    "print(colors[1:3])"
   ]
  },
  {
   "cell_type": "code",
   "execution_count": 3,
   "id": "b0041405-812f-4e54-bff7-32e068384887",
   "metadata": {},
   "outputs": [
    {
     "name": "stdout",
     "output_type": "stream",
     "text": [
      "s\n"
     ]
    }
   ],
   "source": [
    "oila = (\"Jasur , Aqiljon , Xudaybergan , Boburjon , jasmina \")\n",
    "print (oila[2])"
   ]
  },
  {
   "cell_type": "code",
   "execution_count": null,
   "id": "b1700fe4-02f3-4d7b-b29e-d1cb01844b45",
   "metadata": {},
   "outputs": [],
   "source": []
  }
 ],
 "metadata": {
  "kernelspec": {
   "display_name": "Python 3 (ipykernel)",
   "language": "python",
   "name": "python3"
  },
  "language_info": {
   "codemirror_mode": {
    "name": "ipython",
    "version": 3
   },
   "file_extension": ".py",
   "mimetype": "text/x-python",
   "name": "python",
   "nbconvert_exporter": "python",
   "pygments_lexer": "ipython3",
   "version": "3.14.0"
  }
 },
 "nbformat": 4,
 "nbformat_minor": 5
}
