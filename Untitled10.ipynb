{
 "cells": [
  {
   "cell_type": "code",
   "execution_count": 2,
   "id": "cff5c10d-9045-41e1-9417-24c2160480e6",
   "metadata": {},
   "outputs": [],
   "source": [
    "\n",
    "mevalar = {\"olma\", \"banan\", \"gilos\", \"olma\"}\n",
    "raqamlar = {1, 2, 3, 4, 3, 2, 1}"
   ]
  },
  {
   "cell_type": "code",
   "execution_count": 3,
   "id": "991dc8f4-c289-4743-b3fc-f393924d36ac",
   "metadata": {},
   "outputs": [
    {
     "name": "stdout",
     "output_type": "stream",
     "text": [
      "Mevalar: {'gilos', 'olma', 'banan'}\n",
      "Raqamlar: {1, 2, 3, 4}\n"
     ]
    }
   ],
   "source": [
    "print(\"Mevalar:\", mevalar)\n",
    "print(\"Raqamlar:\", raqamlar)\n"
   ]
  },
  {
   "cell_type": "code",
   "execution_count": 4,
   "id": "c6b59294-26ad-45e6-92b7-765555019e53",
   "metadata": {},
   "outputs": [
    {
     "name": "stdout",
     "output_type": "stream",
     "text": [
      "Bo‘sh set: set()\n"
     ]
    }
   ],
   "source": [
    "bo_sh_set = set()\n",
    "print(\"Bo‘sh set:\", bo_sh_set)"
   ]
  },
  {
   "cell_type": "code",
   "execution_count": 8,
   "id": "324fc6fe-d624-4fdc-a4e5-c6daa159a144",
   "metadata": {},
   "outputs": [
    {
     "name": "stdout",
     "output_type": "stream",
     "text": [
      "1\n",
      "2\n",
      "3\n",
      "4\n",
      "5\n",
      "6\n",
      "7\n",
      "8\n"
     ]
    }
   ],
   "source": [
    "for x in range (1,9):\n",
    "    print (x)"
   ]
  },
  {
   "cell_type": "code",
   "execution_count": 9,
   "id": "0ec142fe-495d-4c8d-a64a-708916acc0bf",
   "metadata": {},
   "outputs": [
    {
     "name": "stdout",
     "output_type": "stream",
     "text": [
      "1 ning kvadrati = 1\n",
      "2 ning kvadrati = 4\n",
      "3 ning kvadrati = 9\n",
      "4 ning kvadrati = 16\n",
      "5 ning kvadrati = 25\n"
     ]
    }
   ],
   "source": [
    "for x in range(1, 6):\n",
    "    print(x, \"ning kvadrati =\", x ** 2)\n"
   ]
  },
  {
   "cell_type": "code",
   "execution_count": 12,
   "id": "a400ad30-b679-45ab-aa45-f4c4ade46571",
   "metadata": {},
   "outputs": [
    {
     "name": "stdout",
     "output_type": "stream",
     "text": [
      "2\n",
      "5\n",
      "8\n"
     ]
    }
   ],
   "source": [
    "for x in range(2, 11, 3): \n",
    "    print(x)\n"
   ]
  },
  {
   "cell_type": "code",
   "execution_count": 13,
   "id": "cf225c9a-dd3f-400f-b192-1326b0891229",
   "metadata": {},
   "outputs": [
    {
     "name": "stdout",
     "output_type": "stream",
     "text": [
      "10\n",
      "9\n",
      "8\n",
      "7\n",
      "6\n",
      "5\n",
      "4\n",
      "3\n",
      "2\n",
      "1\n"
     ]
    }
   ],
   "source": [
    "for x in range(10, 0, -1):\n",
    "    print(x)\n"
   ]
  },
  {
   "cell_type": "code",
   "execution_count": 14,
   "id": "76b2782e-17e5-42c4-b168-87a7ffedc681",
   "metadata": {},
   "outputs": [
    {
     "name": "stdout",
     "output_type": "stream",
     "text": [
      "olma\n",
      "banan\n",
      "gilos\n"
     ]
    }
   ],
   "source": [
    "mevalar = [\"olma\", \"banan\", \"gilos\"]\n",
    "for x in mevalar:\n",
    "    print(x)\n"
   ]
  },
  {
   "cell_type": "code",
   "execution_count": 15,
   "id": "6571330a-81f5-4efb-995b-2559e5cc0efb",
   "metadata": {},
   "outputs": [
    {
     "name": "stdout",
     "output_type": "stream",
     "text": [
      "1\n",
      "2\n",
      "3\n",
      "4\n"
     ]
    }
   ],
   "source": [
    "sonlar = {1, 2, 3, 4}\n",
    "for x in sonlar:\n",
    "    print(x)\n"
   ]
  },
  {
   "cell_type": "code",
   "execution_count": 16,
   "id": "a057e4c0-33d9-475e-a129-29ffb531c443",
   "metadata": {},
   "outputs": [
    {
     "name": "stdout",
     "output_type": "stream",
     "text": [
      "{1, 2, 3, 4, 5}\n"
     ]
    }
   ],
   "source": [
    "A = {1, 2, 3}\n",
    "B = {3, 4, 5}\n",
    "\n",
    "natija = A.union(B)\n",
    "print(natija)\n"
   ]
  },
  {
   "cell_type": "code",
   "execution_count": 17,
   "id": "a65fbec7-14b5-4c70-b1d0-a6c3d291e485",
   "metadata": {},
   "outputs": [
    {
     "name": "stdout",
     "output_type": "stream",
     "text": [
      "{1, 2, 3, 4, 5}\n"
     ]
    }
   ],
   "source": [
    "print(A | B)\n"
   ]
  },
  {
   "cell_type": "code",
   "execution_count": 18,
   "id": "f701cf66-e6a3-49af-a6f1-14044d6f33e8",
   "metadata": {},
   "outputs": [
    {
     "name": "stdout",
     "output_type": "stream",
     "text": [
      "{3}\n"
     ]
    }
   ],
   "source": [
    "A = {1, 2, 3}\n",
    "B = {3, 4, 5}\n",
    "\n",
    "natija = A.intersection(B)\n",
    "print(natija)\n"
   ]
  },
  {
   "cell_type": "code",
   "execution_count": 19,
   "id": "45bd815f-58b7-4cc2-bed7-bcca17ae5b26",
   "metadata": {},
   "outputs": [
    {
     "name": "stdout",
     "output_type": "stream",
     "text": [
      "{3}\n"
     ]
    }
   ],
   "source": [
    "print(A & B)\n"
   ]
  },
  {
   "cell_type": "code",
   "execution_count": 20,
   "id": "f5318a02-d891-4929-ab6e-ac013f498465",
   "metadata": {},
   "outputs": [
    {
     "name": "stdout",
     "output_type": "stream",
     "text": [
      "{1, 2}\n"
     ]
    }
   ],
   "source": [
    "A = {1, 2, 3, 4}\n",
    "B = {3, 4, 5, 6}\n",
    "\n",
    "print(A.difference(B))  # A - B\n"
   ]
  },
  {
   "cell_type": "code",
   "execution_count": 21,
   "id": "0453bfe6-c6f6-4bb4-92ff-f9ca5c49c20c",
   "metadata": {},
   "outputs": [
    {
     "name": "stdout",
     "output_type": "stream",
     "text": [
      "{1, 2}\n"
     ]
    }
   ],
   "source": [
    "print (A - B)"
   ]
  },
  {
   "cell_type": "code",
   "execution_count": 22,
   "id": "4d137bb2-c8d7-4f6d-9f42-45427d93cdbf",
   "metadata": {},
   "outputs": [
    {
     "name": "stdout",
     "output_type": "stream",
     "text": [
      "Union: {1, 2, 3, 4, 5, 6}\n",
      "Intersection: {3, 4}\n",
      "Difference (A - B): {1, 2}\n",
      "Symmetric difference: {1, 2, 5, 6}\n"
     ]
    }
   ],
   "source": [
    "A = {1, 2, 3, 4}\n",
    "B = {3, 4, 5, 6}\n",
    "\n",
    "print(\"Union:\", A | B)\n",
    "print(\"Intersection:\", A & B)\n",
    "print(\"Difference (A - B):\", A - B)\n",
    "print(\"Symmetric difference:\", A ^ B)\n"
   ]
  },
  {
   "cell_type": "code",
   "execution_count": 25,
   "id": "1684a77f-567f-4ec3-a8fc-b7d9a020bdbe",
   "metadata": {},
   "outputs": [
    {
     "ename": "NameError",
     "evalue": "name 'true' is not defined",
     "output_type": "error",
     "traceback": [
      "\u001b[31m---------------------------------------------------------------------------\u001b[39m",
      "\u001b[31mNameError\u001b[39m                                 Traceback (most recent call last)",
      "\u001b[36mCell\u001b[39m\u001b[36m \u001b[39m\u001b[32mIn[25]\u001b[39m\u001b[32m, line 1\u001b[39m\n\u001b[32m----> \u001b[39m\u001b[32m1\u001b[39m \u001b[38;5;28;01mwhile\u001b[39;00m \u001b[43mtrue\u001b[49m:\n\u001b[32m      2\u001b[39m     buyruq = \u001b[38;5;28minput\u001b[39m(\u001b[33m\"\u001b[39m\u001b[33mbuyruqni kiriting(t -> toxtatish / k -> kiritish\u001b[39m\u001b[33m\"\u001b[39m)\n\u001b[32m      3\u001b[39m     \u001b[38;5;28;01mif\u001b[39;00m buyruq == \u001b[33m\"\u001b[39m\u001b[33mt\u001b[39m\u001b[33m\"\u001b[39m: \u001b[38;5;28;01mbreak\u001b[39;00m \n",
      "\u001b[31mNameError\u001b[39m: name 'true' is not defined"
     ]
    }
   ],
   "source": [
    "while true:\n",
    "    buyruq = input(\"buyruqni kiriting(t -> toxtatish / k -> kiritish\")\n",
    "    if buyruq == \"t\": break \n",
    "    elif buyruq == \"k\":\n",
    "        ism = input (\"ism kiriting\")\n",
    "        yosh = input (\"yosh kiriting\")\n",
    "        baho = input (\"bahosini kiting\")\n",
    "        with open (\"Oqituvchilar.txt\")"
   ]
  },
  {
   "cell_type": "code",
   "execution_count": 26,
   "id": "034bb280-c374-471a-b4f9-f4c819eb6838",
   "metadata": {},
   "outputs": [
    {
     "name": "stdin",
     "output_type": "stream",
     "text": [
      "Ismingizni kiriting:  Boburjon\n",
      "Yoshingizni kiriting:  15\n",
      "Bahoyingizni kiriting (0-100 oralig‘ida):  99\n"
     ]
    },
    {
     "name": "stdout",
     "output_type": "stream",
     "text": [
      "\n",
      "👤 Ism: Boburjon\n",
      "🕒 Yosh: 15\n",
      "📊 Bahosi: 99\n",
      "🏅 Natija: A'lo 👏\n"
     ]
    }
   ],
   "source": [
    "\n",
    "ism = input(\"Ismingizni kiriting: \")\n",
    "yosh = int(input(\"Yoshingizni kiriting: \"))\n",
    "baho = int(input(\"Bahoyingizni kiriting (0-100 oralig‘ida): \"))\n",
    "if baho >= 90:\n",
    "    natija = \"A'lo 👏\"\n",
    "elif baho >= 80:\n",
    "    natija = \"Yaxshi 👍\"\n",
    "elif baho >= 70:\n",
    "    natija = \"Qoniqarli 🙂\"\n",
    "elif baho >= 60:\n",
    "    natija = \"Yaxshilash kerak 😐\"\n",
    "else:\n",
    "    natija = \"Qoniqarsiz ❌\"\n",
    "print(\"\\n👤 Ism:\", ism)\n",
    "print(\"🕒 Yosh:\", yosh)\n",
    "print(\"📊 Bahosi:\", baho)\n",
    "print(\"🏅 Natija:\", natija)\n"
   ]
  },
  {
   "cell_type": "code",
   "execution_count": 27,
   "id": "942dbbc1-b20c-412b-b6c0-6c43a0c80c4e",
   "metadata": {},
   "outputs": [
    {
     "name": "stdout",
     "output_type": "stream",
     "text": [
      "📚 O‘quvchilar baho jurnali tizimi\n",
      "Chiqarish uchun 'stop' deb yozing.\n",
      "\n"
     ]
    },
    {
     "name": "stdin",
     "output_type": "stream",
     "text": [
      "Ism kiriting (yoki 'stop' deb yozing):  Boburjon\n",
      "Yoshini kiriting:  15\n",
      "Bahosini kiriting (0-100):  99\n"
     ]
    },
    {
     "name": "stdout",
     "output_type": "stream",
     "text": [
      "✅ Boburjon jurnalda saqlandi!\n",
      "\n"
     ]
    },
    {
     "name": "stdin",
     "output_type": "stream",
     "text": [
      "Ism kiriting (yoki 'stop' deb yozing):  Shoxjaxon\n",
      "Yoshini kiriting:  15\n",
      "Bahosini kiriting (0-100):  12\n"
     ]
    },
    {
     "name": "stdout",
     "output_type": "stream",
     "text": [
      "✅ Shoxjaxon jurnalda saqlandi!\n",
      "\n"
     ]
    },
    {
     "name": "stdin",
     "output_type": "stream",
     "text": [
      "Ism kiriting (yoki 'stop' deb yozing):  Shixnazar\n",
      "Yoshini kiriting:  15\n",
      "Bahosini kiriting (0-100):  99\n"
     ]
    },
    {
     "name": "stdout",
     "output_type": "stream",
     "text": [
      "✅ Shixnazar jurnalda saqlandi!\n",
      "\n"
     ]
    },
    {
     "name": "stdin",
     "output_type": "stream",
     "text": [
      "Ism kiriting (yoki 'stop' deb yozing):  stop\n"
     ]
    },
    {
     "name": "stdout",
     "output_type": "stream",
     "text": [
      "\n",
      "📊 O‘quvchilar jurnali:\n",
      "---------------------------------------------\n",
      "Ism            Yosh      Baho      Natija\n",
      "---------------------------------------------\n",
      "Boburjon       15        99        A'lo\n",
      "Shoxjaxon      15        12        Qoniqarsiz\n",
      "Shixnazar      15        99        A'lo\n",
      "---------------------------------------------\n",
      "📘 Jurnal tugadi!\n"
     ]
    }
   ],
   "source": [
    "# 🧾 Bo'sh ro‘yxat — bu yerda barcha o‘quvchilar saqlanadi\n",
    "jurnal = []\n",
    "\n",
    "print(\"📚 O‘quvchilar baho jurnali tizimi\")\n",
    "print(\"Chiqarish uchun 'stop' deb yozing.\\n\")\n",
    "\n",
    "while True:\n",
    "    ism = input(\"Ism kiriting (yoki 'stop' deb yozing): \")\n",
    "    if ism.lower() == \"stop\":\n",
    "        break  # foydalanuvchi 'stop' desa, sikl to‘xtaydi\n",
    "\n",
    "    yosh = int(input(\"Yoshini kiriting: \"))\n",
    "    baho = int(input(\"Bahosini kiriting (0-100): \"))\n",
    "\n",
    "    # Bahoga qarab natijani aniqlaymiz\n",
    "    if baho >= 90:\n",
    "        natija = \"A'lo\"\n",
    "    elif baho >= 80:\n",
    "        natija = \"Yaxshi\"\n",
    "    elif baho >= 70:\n",
    "        natija = \"Qoniqarli\"\n",
    "    elif baho >= 60:\n",
    "        natija = \"Yaxshilash kerak\"\n",
    "    else:\n",
    "        natija = \"Qoniqarsiz\"\n",
    "\n",
    "    # Barcha ma'lumotni lug‘at (dict) shaklida saqlaymiz\n",
    "    talaba = {\n",
    "        \"Ism\": ism,\n",
    "        \"Yosh\": yosh,\n",
    "        \"Baho\": baho,\n",
    "        \"Natija\": natija\n",
    "    }\n",
    "\n",
    "    # Lug‘atni jurnal ro‘yxatiga qo‘shamiz\n",
    "    jurnal.append(talaba)\n",
    "    print(f\"✅ {ism} jurnalda saqlandi!\\n\")\n",
    "\n",
    "# 🔸 Oxirida jurnalni chiroyli ko‘rinishda chiqaramiz\n",
    "print(\"\\n📊 O‘quvchilar jurnali:\")\n",
    "print(\"-\" * 45)\n",
    "print(f\"{'Ism':<15}{'Yosh':<10}{'Baho':<10}{'Natija'}\")\n",
    "print(\"-\" * 45)\n",
    "\n",
    "for t in jurnal:\n",
    "    print(f\"{t['Ism']:<15}{t['Yosh']:<10}{t['Baho']:<10}{t['Natija']}\")\n",
    "\n",
    "print(\"-\" * 45)\n",
    "print(\"📘 Jurnal tugadi!\")\n"
   ]
  },
  {
   "cell_type": "code",
   "execution_count": null,
   "id": "f3f02d16-1417-458f-bcde-2dec45e4e505",
   "metadata": {},
   "outputs": [],
   "source": []
  }
 ],
 "metadata": {
  "kernelspec": {
   "display_name": "Python 3 (ipykernel)",
   "language": "python",
   "name": "python3"
  },
  "language_info": {
   "codemirror_mode": {
    "name": "ipython",
    "version": 3
   },
   "file_extension": ".py",
   "mimetype": "text/x-python",
   "name": "python",
   "nbconvert_exporter": "python",
   "pygments_lexer": "ipython3",
   "version": "3.14.0"
  }
 },
 "nbformat": 4,
 "nbformat_minor": 5
}
