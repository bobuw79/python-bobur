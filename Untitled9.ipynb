{
 "cells": [
  {
   "cell_type": "code",
   "execution_count": 1,
   "id": "0109af0f-a37d-48ba-a355-a57f6a8f19e7",
   "metadata": {},
   "outputs": [
    {
     "name": "stdout",
     "output_type": "stream",
     "text": [
      "Natija: 42\n"
     ]
    }
   ],
   "source": [
    "\n",
    "a = 15\n",
    "b = 27\n",
    "natija = a + b\n",
    "print(\"Natija:\", natija)"
   ]
  },
  {
   "cell_type": "code",
   "execution_count": 2,
   "id": "18a2282d-3b85-4aa2-a59e-a4e3e20f1dda",
   "metadata": {},
   "outputs": [
    {
     "name": "stdout",
     "output_type": "stream",
     "text": [
      "Yoshingiz: 15\n"
     ]
    }
   ],
   "source": [
    "tug_yil = 2010\n",
    "hozir = 2025\n",
    "yosh = hozir - tug_yil\n",
    "print(\"Yoshingiz:\", yosh)"
   ]
  },
  {
   "cell_type": "code",
   "execution_count": 6,
   "id": "230f31eb-616a-46da-a6ce-a46ed89184d6",
   "metadata": {},
   "outputs": [
    {
     "name": "stdout",
     "output_type": "stream",
     "text": [
      "Qoldiq: 1\n"
     ]
    }
   ],
   "source": [
    "son = 17\n",
    "qoldiq = son % 2\n",
    "print(\"Qoldiq:\", qoldiq)\n",
    "\n"
   ]
  },
  {
   "cell_type": "code",
   "execution_count": 16,
   "id": "f438145e-db6d-48dc-837f-7d015aff6c8b",
   "metadata": {},
   "outputs": [
    {
     "name": "stdout",
     "output_type": "stream",
     "text": [
      "100 dollar = 1265050.0 so‘m\n"
     ]
    }
   ],
   "source": [
    "dollar = 100.0\n",
    "kurs = 12650.5\n",
    "som = dollar * kurs\n",
    "print(\"100 dollar =\", som, \"so‘m\")"
   ]
  },
  {
   "cell_type": "code",
   "execution_count": 17,
   "id": "fc64edfa-2b1f-47dc-b0d1-c1ae22415ab6",
   "metadata": {},
   "outputs": [],
   "source": [
    "celsius = 25.5 \n",
    "f=celsius * 9/5 + 32"
   ]
  },
  {
   "cell_type": "code",
   "execution_count": 18,
   "id": "e45235f1-aa25-4618-912b-f90f1346d62b",
   "metadata": {},
   "outputs": [
    {
     "name": "stdout",
     "output_type": "stream",
     "text": [
      "77.9\n"
     ]
    }
   ],
   "source": [
    "print(f)"
   ]
  },
  {
   "cell_type": "code",
   "execution_count": 19,
   "id": "0ebdec8e-8137-4650-927c-d732bbbe0120",
   "metadata": {},
   "outputs": [
    {
     "name": "stdout",
     "output_type": "stream",
     "text": [
      "Aylanani yuzi: 176.7144375\n"
     ]
    }
   ],
   "source": [
    "radius = 7.5\n",
    "pi = 3.14159\n",
    "yuza = pi * radius * radius\n",
    "print(\"Aylanani yuzi:\", yuza)"
   ]
  },
  {
   "cell_type": "code",
   "execution_count": 20,
   "id": "8b43300c-40c5-44e5-8b3c-28c1a4c6e0b6",
   "metadata": {},
   "outputs": [
    {
     "name": "stdout",
     "output_type": "stream",
     "text": [
      "Ali Valiyev\n"
     ]
    }
   ],
   "source": [
    "ism = \"Ali\"\n",
    "familiya = \"Valiyev\"\n",
    "toliq_ism = ism + \" \" + familiya\n",
    "print(toliq_ism)\n"
   ]
  },
  {
   "cell_type": "code",
   "execution_count": 21,
   "id": "6e2bc5ae-60f1-4bde-ba24-189d6386489f",
   "metadata": {},
   "outputs": [
    {
     "name": "stdout",
     "output_type": "stream",
     "text": [
      "SALOM DUNYO\n"
     ]
    }
   ],
   "source": [
    "matn = \"salom dunyo\"\n",
    "katta_harfda = matn.upper()\n",
    "print(katta_harfda)\n"
   ]
  },
  {
   "cell_type": "code",
   "execution_count": 22,
   "id": "98f96c8d-4cc5-4173-8495-d19bac3aa2bb",
   "metadata": {},
   "outputs": [
    {
     "name": "stdout",
     "output_type": "stream",
     "text": [
      "22\n"
     ]
    }
   ],
   "source": [
    "gap = \"Python dasturlash tili\"\n",
    "uzunlik = len(gap)\n",
    "print(uzunlik)\n"
   ]
  },
  {
   "cell_type": "code",
   "execution_count": 23,
   "id": "8fb11a58-498e-43d4-bf41-a72d741adc9d",
   "metadata": {},
   "outputs": [
    {
     "name": "stdout",
     "output_type": "stream",
     "text": [
      "Ha! Ha! Ha! \n"
     ]
    }
   ],
   "source": [
    "soz = \"Ha! \"\n",
    "natija = soz * 3\n",
    "print(natija)\n"
   ]
  },
  {
   "cell_type": "code",
   "execution_count": 24,
   "id": "053aa72f-8f00-4b7b-90bc-a515e8de57b2",
   "metadata": {},
   "outputs": [
    {
     "name": "stdout",
     "output_type": "stream",
     "text": [
      "Assal\n"
     ]
    }
   ],
   "source": [
    "matn = \"Assalomu Alaykum\"\n",
    "birinchi_5 = matn[0:5]\n",
    "print(birinchi_5)\n"
   ]
  },
  {
   "cell_type": "code",
   "execution_count": 25,
   "id": "4b02442b-97ab-4f1a-a56e-9da76adbba0d",
   "metadata": {},
   "outputs": [
    {
     "name": "stdout",
     "output_type": "stream",
     "text": [
      "['olma', 'banan', 'uzum']\n"
     ]
    }
   ],
   "source": [
    "mevalar = [\"olma\", \"banan\", \"uzum\"]\n",
    "print(mevalar)\n"
   ]
  },
  {
   "cell_type": "code",
   "execution_count": 26,
   "id": "2b2a785a-9084-4ee3-8b37-0f3c29ec1480",
   "metadata": {},
   "outputs": [
    {
     "name": "stdout",
     "output_type": "stream",
     "text": [
      "[1, 2, 3, 4]\n"
     ]
    }
   ],
   "source": [
    "sonlar = [1, 2, 3]\n",
    "sonlar.append(4)\n",
    "print(sonlar)\n"
   ]
  },
  {
   "cell_type": "code",
   "execution_count": 27,
   "id": "24132a79-7d90-4d3c-ae94-84e0ecf4592d",
   "metadata": {},
   "outputs": [
    {
     "name": "stdout",
     "output_type": "stream",
     "text": [
      "yashil\n"
     ]
    }
   ],
   "source": [
    "rang = [\"qizil\", \"yashil\", \"ko'k\", \"sariq\"]\n",
    "print(rang[1])\n"
   ]
  },
  {
   "cell_type": "code",
   "execution_count": 28,
   "id": "73c53c5e-aaad-4e68-a3f7-9d51d1ec258d",
   "metadata": {},
   "outputs": [
    {
     "name": "stdout",
     "output_type": "stream",
     "text": [
      "3\n"
     ]
    }
   ],
   "source": [
    "shahar = [\"Toshkent\", \"Samarqand\", \"Buxoro\"]\n",
    "print(len(shahar))\n"
   ]
  },
  {
   "cell_type": "code",
   "execution_count": 29,
   "id": "6ce8752c-b554-42ba-9909-b5e2109167bf",
   "metadata": {},
   "outputs": [
    {
     "name": "stdout",
     "output_type": "stream",
     "text": [
      "[1, 2, 3, 4, 5, 6]\n"
     ]
    }
   ],
   "source": [
    "list1 = [1, 2, 3]\n",
    "list2 = [4, 5, 6]\n",
    "birlashtirilgan = list1 + list2\n",
    "print(birlashtirilgan)\n"
   ]
  },
  {
   "cell_type": "code",
   "execution_count": 34,
   "id": "7e61d8e0-3874-47e4-ad94-c2cf63bdaf90",
   "metadata": {},
   "outputs": [
    {
     "name": "stdin",
     "output_type": "stream",
     "text": [
      " 88\n"
     ]
    },
    {
     "name": "stdout",
     "output_type": "stream",
     "text": [
      "voyaga yetgan\n"
     ]
    }
   ],
   "source": [
    "yosh = int (input())\n",
    "if yosh<18 :\n",
    "    print (\"voyaga yetmagansiz!\")\n",
    "else :\n",
    "    print (\"voyaga yetgan\")"
   ]
  },
  {
   "cell_type": "code",
   "execution_count": 41,
   "id": "4ed30429-3cc8-485f-953c-d85ddc3725a6",
   "metadata": {},
   "outputs": [
    {
     "name": "stdin",
     "output_type": "stream",
     "text": [
      " 45\n"
     ]
    },
    {
     "name": "stdout",
     "output_type": "stream",
     "text": [
      "D\n"
     ]
    }
   ],
   "source": [
    "baho = int (input())\n",
    "if baho > 90 :\n",
    "    print(\"A\")\n",
    "elif baho > 80 :\n",
    "    print (\"B\")\n",
    "elif baho > 70 :\n",
    "    print (\"C\")\n",
    "else :\n",
    "    print (\"D\")"
   ]
  },
  {
   "cell_type": "code",
   "execution_count": 45,
   "id": "4e691ac2-6c9f-44aa-8343-5ac3fd375918",
   "metadata": {},
   "outputs": [
    {
     "name": "stdin",
     "output_type": "stream",
     "text": [
      " -6\n"
     ]
    },
    {
     "name": "stdout",
     "output_type": "stream",
     "text": [
      "manfiy\n"
     ]
    }
   ],
   "source": [
    "son = int (input())\n",
    "if son  > 0 :\n",
    "    print (\"musbat\")\n",
    "elif son < 0 :\n",
    "    print (\"manfiy\")\n",
    "elif son == 0 :\n",
    "    print (\"0\")"
   ]
  },
  {
   "cell_type": "code",
   "execution_count": null,
   "id": "b16b5f19-8114-4ed5-af15-da8228c40d5b",
   "metadata": {},
   "outputs": [],
   "source": []
  }
 ],
 "metadata": {
  "kernelspec": {
   "display_name": "Python 3 (ipykernel)",
   "language": "python",
   "name": "python3"
  },
  "language_info": {
   "codemirror_mode": {
    "name": "ipython",
    "version": 3
   },
   "file_extension": ".py",
   "mimetype": "text/x-python",
   "name": "python",
   "nbconvert_exporter": "python",
   "pygments_lexer": "ipython3",
   "version": "3.14.0"
  }
 },
 "nbformat": 4,
 "nbformat_minor": 5
}
