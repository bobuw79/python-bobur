{
 "cells": [
  {
   "cell_type": "code",
   "execution_count": 1,
   "id": "87ac6c81-cb1e-4f3c-9dbd-f0722ac10654",
   "metadata": {},
   "outputs": [
    {
     "name": "stdout",
     "output_type": "stream",
     "text": [
      "47\n"
     ]
    }
   ],
   "source": [
    "s = 10 - 8 * 22 // 3 \n",
    "print(~s)"
   ]
  },
  {
   "cell_type": "code",
   "execution_count": 2,
   "id": "795cecb3-972b-4b82-98bd-9ac59db06678",
   "metadata": {},
   "outputs": [
    {
     "name": "stdout",
     "output_type": "stream",
     "text": [
      "99\n"
     ]
    }
   ],
   "source": [
    "def f(x): \n",
    "    if x <= 3: return x \n",
    "    return f(x - 1) + 3 * f(x - 2) \n",
    "print(f(7))"
   ]
  },
  {
   "cell_type": "code",
   "execution_count": 3,
   "id": "b4217a7d-3ccd-44cc-a7aa-c76157c4db82",
   "metadata": {},
   "outputs": [
    {
     "name": "stdout",
     "output_type": "stream",
     "text": [
      "104\n"
     ]
    }
   ],
   "source": [
    "a = 13 \n",
    "b = 2 \n",
    "print(a << 2 + 3 >> b)"
   ]
  },
  {
   "cell_type": "code",
   "execution_count": 4,
   "id": "7bf7739b-2218-4d05-a641-d4131196f1e9",
   "metadata": {},
   "outputs": [
    {
     "name": "stdout",
     "output_type": "stream",
     "text": [
      "Ifrai\n"
     ]
    }
   ],
   "source": [
    "s = 'Informatika'[:-1:2] \n",
    "print(s) "
   ]
  },
  {
   "cell_type": "code",
   "execution_count": 5,
   "id": "5d494066-cb69-422f-9546-1b94a269a371",
   "metadata": {},
   "outputs": [
    {
     "name": "stdout",
     "output_type": "stream",
     "text": [
      "26\n"
     ]
    }
   ],
   "source": [
    "s, x = 0, 0 \n",
    "for i in range(3, 15, 3): \n",
    "    s += i \n",
    "    x = x + 1 \n",
    "print(s - x)"
   ]
  },
  {
   "cell_type": "code",
   "execution_count": 6,
   "id": "60a52faa-b0bb-4f0c-b82b-55c0fe94d6a7",
   "metadata": {},
   "outputs": [
    {
     "name": "stdout",
     "output_type": "stream",
     "text": [
      "13\n"
     ]
    }
   ],
   "source": [
    "print(12**2**0+19//4-3%8)"
   ]
  },
  {
   "cell_type": "code",
   "execution_count": 7,
   "id": "7246bc4d-4ccd-42e5-b9b1-4b8141d928d5",
   "metadata": {},
   "outputs": [
    {
     "name": "stdout",
     "output_type": "stream",
     "text": [
      "False\n"
     ]
    }
   ],
   "source": [
    "x = 2 \n",
    "print(type(x) == 'int') "
   ]
  },
  {
   "cell_type": "code",
   "execution_count": 8,
   "id": "f40dde25-759b-4139-856c-50f4cedf8dc7",
   "metadata": {},
   "outputs": [
    {
     "name": "stdout",
     "output_type": "stream",
     "text": [
      "13\n"
     ]
    }
   ],
   "source": [
    "print(12**2**0+19//4-3%8)"
   ]
  },
  {
   "cell_type": "code",
   "execution_count": 9,
   "id": "cce61052-dfae-4639-9a61-4214031e8ed8",
   "metadata": {},
   "outputs": [
    {
     "name": "stdout",
     "output_type": "stream",
     "text": [
      "99\n"
     ]
    }
   ],
   "source": [
    "def f(x): \n",
    "    if x <= 3: return x \n",
    "    return f(x - 1) + 3 * f(x - 2) \n",
    "print(f(7)) "
   ]
  },
  {
   "cell_type": "code",
   "execution_count": 11,
   "id": "68a6e9b5-3e96-436c-8144-f07583565bcd",
   "metadata": {},
   "outputs": [
    {
     "name": "stdout",
     "output_type": "stream",
     "text": [
      "No\n"
     ]
    }
   ],
   "source": [
    "if a < 11 and 6/a % 1 != 0:  \n",
    "    for i in range(2,a): \n",
    "        if a % i == 0: \n",
    "            print(\"No\") \n",
    "            break \n",
    "    else: \n",
    "        print(\"Yes\") \n",
    "else: print(\"No\") "
   ]
  },
  {
   "cell_type": "code",
   "execution_count": 3,
   "id": "e3bce223-8ed9-4c45-935a-a599f06dff57",
   "metadata": {},
   "outputs": [],
   "source": [
    "mevalar = {\"olma\", \"banan\", \"gilos\"}\n",
    "raqamlar = {1, 2, 3, 4, 5}\n",
    "bosh_set = set()  # bo‘sh set yaratish\n"
   ]
  },
  {
   "cell_type": "code",
   "execution_count": 4,
   "id": "6b0fe732-8d40-40dd-b2fa-6cda09b9ec2c",
   "metadata": {},
   "outputs": [],
   "source": [
    "mevalar.add(\"nok\")          \n",
    "mevalar.remove(\"banan\")     \n",
    "mevalar.discard(\"banan\")    \n",
    "mevalar.clear()\n"
   ]
  },
  {
   "cell_type": "code",
   "execution_count": 5,
   "id": "08a6529c-69d8-4f0f-bc99-509696ba3801",
   "metadata": {},
   "outputs": [
    {
     "name": "stdout",
     "output_type": "stream",
     "text": [
      "{1, 2, 3, 4, 5, 6}\n",
      "{3, 4}\n",
      "{1, 2}\n",
      "{1, 2, 5, 6}\n"
     ]
    }
   ],
   "source": [
    "A = {1, 2, 3, 4}\n",
    "B = {3, 4, 5, 6}\n",
    "\n",
    "print(A.union(B))              \n",
    "print(A.intersection(B))       \n",
    "print(A.difference(B))         \n",
    "print(A.symmetric_difference(B))  \n"
   ]
  },
  {
   "cell_type": "code",
   "execution_count": 6,
   "id": "a021fd5d-7006-4426-b533-fd929f1a87f3",
   "metadata": {},
   "outputs": [
    {
     "name": "stdout",
     "output_type": "stream",
     "text": [
      "{1, 4, 9, 16, 25}\n"
     ]
    }
   ],
   "source": [
    "kvadratlar = {x**2 for x in range(1, 6)}\n",
    "print(kvadratlar)  # {1, 4, 9, 16, 25}\n"
   ]
  },
  {
   "cell_type": "code",
   "execution_count": 7,
   "id": "f9467d60-5881-440e-9a16-3dbfc26b4be1",
   "metadata": {},
   "outputs": [],
   "source": [
    "def salom_ber():\n",
    "    print(\"Salom, Python!\")\n"
   ]
  },
  {
   "cell_type": "code",
   "execution_count": 8,
   "id": "6129b9b7-0754-42fc-bab2-a9fcf4907377",
   "metadata": {},
   "outputs": [
    {
     "name": "stdout",
     "output_type": "stream",
     "text": [
      "Salom, Madina!\n"
     ]
    }
   ],
   "source": [
    "def salom_ber(ism):\n",
    "    print(f\"Salom, {ism}!\")\n",
    "\n",
    "salom_ber(\"Madina\")\n"
   ]
  },
  {
   "cell_type": "code",
   "execution_count": 9,
   "id": "4854a483-c57d-43af-8157-dd961f16352b",
   "metadata": {},
   "outputs": [
    {
     "name": "stdout",
     "output_type": "stream",
     "text": [
      "Salom, Do‘st!\n",
      "Salom, Ali!\n"
     ]
    }
   ],
   "source": [
    "def salom_ber(ism=\"Do‘st\"):\n",
    "    print(f\"Salom, {ism}!\")\n",
    "\n",
    "salom_ber()           # Salom, Do‘st!\n",
    "salom_ber(\"Ali\")      # Salom, Ali!\n"
   ]
  },
  {
   "cell_type": "code",
   "execution_count": 11,
   "id": "8a9f1c35-ed41-419c-b655-6ad79977121a",
   "metadata": {},
   "outputs": [
    {
     "name": "stdin",
     "output_type": "stream",
     "text": [
      "Son kiriting:  97643\n"
     ]
    },
    {
     "name": "stdout",
     "output_type": "stream",
     "text": [
      "0.00010241389551734379\n",
      "Xato yo‘q, bajardik!\n",
      "Dastur tugadi.\n"
     ]
    }
   ],
   "source": [
    "try:\n",
    "    son = int(input(\"Son kiriting: \"))\n",
    "    print(10 / son)\n",
    "except ZeroDivisionError:\n",
    "    print(\"0 ga bo‘lish mumkin emas!\")\n",
    "except ValueError:\n",
    "    print(\"Faqat son kiriting!\")\n",
    "else:\n",
    "    print(\"Xato yo‘q, bajardik!\")\n",
    "finally:\n",
    "    print(\"Dastur tugadi.\")\n",
    "|"
   ]
  },
  {
   "cell_type": "code",
   "execution_count": null,
   "id": "0a40f2f5-b12f-43fa-8064-e13c173af599",
   "metadata": {},
   "outputs": [],
   "source": []
  }
 ],
 "metadata": {
  "kernelspec": {
   "display_name": "Python 3 (ipykernel)",
   "language": "python",
   "name": "python3"
  },
  "language_info": {
   "codemirror_mode": {
    "name": "ipython",
    "version": 3
   },
   "file_extension": ".py",
   "mimetype": "text/x-python",
   "name": "python",
   "nbconvert_exporter": "python",
   "pygments_lexer": "ipython3",
   "version": "3.14.0"
  }
 },
 "nbformat": 4,
 "nbformat_minor": 5
}
