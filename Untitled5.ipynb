{
 "cells": [
  {
   "cell_type": "code",
   "execution_count": 2,
   "id": "4fe6c7d9-7a50-4e4a-8599-dbcb3dcf6864",
   "metadata": {},
   "outputs": [
    {
     "name": "stdout",
     "output_type": "stream",
     "text": [
      "dasturlashniozgaruvchi\n"
     ]
    }
   ],
   "source": [
    "x= \"dasturlashni\"\n",
    "y= \"ozgamamiz\"\n",
    "print(x+y)"
   ]
  },
  {
   "cell_type": "code",
   "execution_count": 10,
   "id": "e970807c-88bb-4e37-aa72-5f2337269218",
   "metadata": {},
   "outputs": [
    {
     "name": "stdout",
     "output_type": "stream",
     "text": [
      "13\n"
     ]
    }
   ],
   "source": [
    "x=10\n",
    "y=5\n",
    "x +=3 \n",
    "print(x)"
   ]
  },
  {
   "cell_type": "code",
   "execution_count": 11,
   "id": "237f7f29-f42e-4550-98d3-003a03f25f43",
   "metadata": {},
   "outputs": [
    {
     "name": "stdout",
     "output_type": "stream",
     "text": [
      "True\n",
      "True\n",
      "False\n"
     ]
    }
   ],
   "source": [
    "a = 5  \n",
    " \n",
    "print (a>3 and a<10) \n",
    "print (a>3 or a<4) \n",
    "print (not(a>3 and a<10))"
   ]
  },
  {
   "cell_type": "code",
   "execution_count": 12,
   "id": "663f684f-fa80-4007-acda-7108ea8439fe",
   "metadata": {},
   "outputs": [
    {
     "name": "stdout",
     "output_type": "stream",
     "text": [
      "True\n",
      "False\n",
      "True\n"
     ]
    }
   ],
   "source": [
    "x = [\"olma\", \"banan\"] \n",
    "y = [\"olma\", \"banan\"] \n",
    "z = x \n",
    " \n",
    "print(x is z) \n",
    "print(x is y) \n",
    "print(x == z)"
   ]
  },
  {
   "cell_type": "code",
   "execution_count": 13,
   "id": "3f25d434-6997-45f1-87d3-36b1382134a8",
   "metadata": {},
   "outputs": [
    {
     "name": "stdout",
     "output_type": "stream",
     "text": [
      "<class 'int'>\n"
     ]
    }
   ],
   "source": [
    "x = 5 \n",
    "print(type(x)) "
   ]
  },
  {
   "cell_type": "code",
   "execution_count": 14,
   "id": "885c8702-2b16-450d-a94a-e4db45ccdbd1",
   "metadata": {},
   "outputs": [
    {
     "ename": "SyntaxError",
     "evalue": "invalid syntax (1918413779.py, line 1)",
     "output_type": "error",
     "traceback": [
      "  \u001b[36mCell\u001b[39m\u001b[36m \u001b[39m\u001b[32mIn[14]\u001b[39m\u001b[32m, line 1\u001b[39m\n\u001b[31m    \u001b[39m\u001b[31m<class 'int'>\u001b[39m\n    ^\n\u001b[31mSyntaxError\u001b[39m\u001b[31m:\u001b[39m invalid syntax\n"
     ]
    }
   ],
   "source": [
    "<class 'int'> \n",
    "<class 'float'> \n",
    "<class 'complex'> "
   ]
  },
  {
   "cell_type": "code",
   "execution_count": 21,
   "id": "797cbb1c-78a8-450a-9368-4c481bcb714f",
   "metadata": {},
   "outputs": [
    {
     "name": "stdout",
     "output_type": "stream",
     "text": [
      "Boy\n",
      "O'rta Osiyo\n"
     ]
    }
   ],
   "source": [
    "a = \"Bor\" \n",
    "b = \"Markaziy Osiyo\" \n",
    "print (a.replace(\"r\", \"y\")) \n",
    "print (b.replace(\"Markaziy\", \"O'rta\")) "
   ]
  },
  {
   "cell_type": "code",
   "execution_count": 22,
   "id": "40fca18e-23be-4cd4-bac8-85b276517ff3",
   "metadata": {},
   "outputs": [
    {
     "name": "stdout",
     "output_type": "stream",
     "text": [
      "2-do'kondan 3 kg olmani 5000 so'mga sotib oldim\n"
     ]
    }
   ],
   "source": [
    "raqam = 2 \n",
    "kilo = 3 \n",
    "pul = 5000 \n",
    " \n",
    "savdo = \"{}-do'kondan {} kg olmani {} so'mga sotib oldim\" \n",
    " \n",
    "print(savdo.format(raqam, kilo, pul)) "
   ]
  },
  {
   "cell_type": "code",
   "execution_count": 23,
   "id": "5e2a06f5-bb9e-40fa-a41f-e8667ba6fafe",
   "metadata": {},
   "outputs": [
    {
     "name": "stdout",
     "output_type": "stream",
     "text": [
      "3 kg olmani 2-do'kondan 5000 so'mga sotib oldim\n"
     ]
    }
   ],
   "source": [
    "raqam = 2 \n",
    "kilo = 3 \n",
    "pul = 5000 \n",
    " \n",
    "savdo = \"{1} kg olmani {0}-do'kondan {2} so'mga sotib oldim\" \n",
    " \n",
    "print(savdo.format(raqam, kilo, pul))"
   ]
  },
  {
   "cell_type": "code",
   "execution_count": null,
   "id": "ac365ff5-f14e-4d74-a932-816048a7712e",
   "metadata": {},
   "outputs": [],
   "source": []
  }
 ],
 "metadata": {
  "kernelspec": {
   "display_name": "Python 3 (ipykernel)",
   "language": "python",
   "name": "python3"
  },
  "language_info": {
   "codemirror_mode": {
    "name": "ipython",
    "version": 3
   },
   "file_extension": ".py",
   "mimetype": "text/x-python",
   "name": "python",
   "nbconvert_exporter": "python",
   "pygments_lexer": "ipython3",
   "version": "3.14.0"
  }
 },
 "nbformat": 4,
 "nbformat_minor": 5
}
