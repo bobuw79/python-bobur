{
 "cells": [
  {
   "cell_type": "code",
   "execution_count": 7,
   "id": "0a53b0fb-f9cb-45b5-bc10-de567a15a06e",
   "metadata": {},
   "outputs": [
    {
     "name": "stdin",
     "output_type": "stream",
     "text": [
      "Balingizni kiriting (1–100 oralig‘ida):  99\n"
     ]
    },
    {
     "name": "stdout",
     "output_type": "stream",
     "text": [
      "Sizning bahoingiz: A\n"
     ]
    }
   ],
   "source": [
    "\n",
    "def baho_ber(son):\n",
    "    if 90 <= son <= 100:\n",
    "        return \"A\"\n",
    "    elif 80 <= son <= 89:\n",
    "        return \"B\"\n",
    "    elif 70 <= son <= 79:\n",
    "        return \"C\"\n",
    "    elif 60 <= son <= 69:\n",
    "        return \"D\"\n",
    "    else:\n",
    "        return \"F\"\n",
    "try:\n",
    "    ball = int(input(\"Balingizni kiriting (1–100 oralig‘ida): \"))\n",
    "    if 0 <= ball <= 100:\n",
    "        print(f\"Sizning bahoingiz: {baho_ber(ball)}\")\n",
    "    else:\n",
    "        print(\"Xato! 1–100 oralig‘ida son kiriting.\")\n",
    "except ValueError:\n",
    "    print(\"Faqat son kiriting!\")\n"
   ]
  },
  {
   "cell_type": "code",
   "execution_count": 9,
   "id": "7f6f9953-945b-40c6-a980-315903f3d706",
   "metadata": {},
   "outputs": [
    {
     "name": "stdin",
     "output_type": "stream",
     "text": [
      "Son kiriting:  11\n"
     ]
    },
    {
     "name": "stdout",
     "output_type": "stream",
     "text": [
      "11 toq son.\n"
     ]
    }
   ],
   "source": [
    "\n",
    "def shoxjaxon(son):\n",
    "    if son % 2 == 0:\n",
    "        return f\"{son} juft son.\"\n",
    "    else:\n",
    "        return f\"{son} toq son.\"\n",
    "try:\n",
    "    n = int(input(\"Son kiriting: \"))\n",
    "    print(toq_yoki_juft(n))\n",
    "except ValueError:\n",
    "    print(\"Iltimos, faqat butun son kiriting!\")\n"
   ]
  },
  {
   "cell_type": "code",
   "execution_count": null,
   "id": "2acf78da-1849-4ba3-b8fb-7bf74ec4a449",
   "metadata": {},
   "outputs": [],
   "source": []
  }
 ],
 "metadata": {
  "kernelspec": {
   "display_name": "Python 3 (ipykernel)",
   "language": "python",
   "name": "python3"
  },
  "language_info": {
   "codemirror_mode": {
    "name": "ipython",
    "version": 3
   },
   "file_extension": ".py",
   "mimetype": "text/x-python",
   "name": "python",
   "nbconvert_exporter": "python",
   "pygments_lexer": "ipython3",
   "version": "3.14.0"
  }
 },
 "nbformat": 4,
 "nbformat_minor": 5
}
